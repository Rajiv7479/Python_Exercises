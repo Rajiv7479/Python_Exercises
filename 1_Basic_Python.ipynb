{
 "cells": [
  {
   "cell_type": "code",
   "execution_count": 1,
   "id": "c2371d97",
   "metadata": {},
   "outputs": [
    {
     "data": {
      "text/plain": [
       "2401"
      ]
     },
     "execution_count": 1,
     "metadata": {},
     "output_type": "execute_result"
    }
   ],
   "source": [
    "7**4"
   ]
  },
  {
   "cell_type": "code",
   "execution_count": 4,
   "id": "9b834b05",
   "metadata": {},
   "outputs": [
    {
     "data": {
      "text/plain": [
       "['Hii', 'there', 'sam!']"
      ]
     },
     "execution_count": 4,
     "metadata": {},
     "output_type": "execute_result"
    }
   ],
   "source": [
    "s=\"Hii there sam!\"\n",
    "list=s.split()\n",
    "list"
   ]
  },
  {
   "cell_type": "code",
   "execution_count": 6,
   "id": "9571703a",
   "metadata": {},
   "outputs": [
    {
     "name": "stdout",
     "output_type": "stream",
     "text": [
      "The diameter of the earth is 12435 kilometers.\n"
     ]
    }
   ],
   "source": [
    "planet=\"Earth\"\n",
    "diameter=12435\n",
    "print((\"The diameter of the earth is {x} kilometers.\").format(x=diameter))"
   ]
  },
  {
   "cell_type": "code",
   "execution_count": 16,
   "id": "4cdb210a",
   "metadata": {},
   "outputs": [
    {
     "data": {
      "text/plain": [
       "'hello'"
      ]
     },
     "execution_count": 16,
     "metadata": {},
     "output_type": "execute_result"
    }
   ],
   "source": [
    "lst=[1,2,[3,4],[5,[100,200,['hello']],23,11],1,7]\n",
    "word=lst[3][1][2]\n",
    "word[0]"
   ]
  },
  {
   "cell_type": "code",
   "execution_count": 23,
   "id": "45eeea8d",
   "metadata": {},
   "outputs": [],
   "source": [
    "def countDog(s):\n",
    "    list=s.split()\n",
    "    cnt=0\n",
    "    for e in list:\n",
    "        if e=='dog':\n",
    "            cnt=cnt+1\n",
    "    return cnt    "
   ]
  },
  {
   "cell_type": "code",
   "execution_count": 24,
   "id": "840baf65",
   "metadata": {},
   "outputs": [
    {
     "data": {
      "text/plain": [
       "2"
      ]
     },
     "execution_count": 24,
     "metadata": {},
     "output_type": "execute_result"
    }
   ],
   "source": [
    "countDog('This dog run faster than the other dog dude!')"
   ]
  },
  {
   "cell_type": "code",
   "execution_count": 38,
   "id": "6f5edef3",
   "metadata": {},
   "outputs": [],
   "source": [
    "def caught_speeding(speed,is_bdy):\n",
    "    if is_bdy==False:\n",
    "        if speed<=60:\n",
    "            return \"No Ticket\"\n",
    "        elif speed>60 and speed<=80:\n",
    "            return \"Small Ticket\"\n",
    "        else:\n",
    "            return \"Big Ticket\"\n",
    "    else:\n",
    "        if speed<=65:\n",
    "            return \"No Ticket\"\n",
    "        elif speed>65 and speed<=85:\n",
    "            return \"Small Ticket\"\n",
    "        else:\n",
    "            return \"Big Ticket\"\n"
   ]
  },
  {
   "cell_type": "code",
   "execution_count": 39,
   "id": "b4b711a9",
   "metadata": {},
   "outputs": [
    {
     "data": {
      "text/plain": [
       "'Small Ticket'"
      ]
     },
     "execution_count": 39,
     "metadata": {},
     "output_type": "execute_result"
    }
   ],
   "source": [
    "caught_speeding(81,True)"
   ]
  },
  {
   "cell_type": "code",
   "execution_count": 40,
   "id": "03937738",
   "metadata": {},
   "outputs": [
    {
     "data": {
      "text/plain": [
       "'Big Ticket'"
      ]
     },
     "execution_count": 40,
     "metadata": {},
     "output_type": "execute_result"
    }
   ],
   "source": [
    "caught_speeding(81,False)"
   ]
  },
  {
   "cell_type": "code",
   "execution_count": null,
   "id": "f44839f1",
   "metadata": {},
   "outputs": [],
   "source": []
  }
 ],
 "metadata": {
  "kernelspec": {
   "display_name": "Python 3 (ipykernel)",
   "language": "python",
   "name": "python3"
  },
  "language_info": {
   "codemirror_mode": {
    "name": "ipython",
    "version": 3
   },
   "file_extension": ".py",
   "mimetype": "text/x-python",
   "name": "python",
   "nbconvert_exporter": "python",
   "pygments_lexer": "ipython3",
   "version": "3.9.13"
  }
 },
 "nbformat": 4,
 "nbformat_minor": 5
}
